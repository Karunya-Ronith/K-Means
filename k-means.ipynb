{
 "cells": [
  {
   "cell_type": "markdown",
   "id": "ce73855d",
   "metadata": {
    "papermill": {
     "duration": 0.009424,
     "end_time": "2023-09-01T14:19:49.295848",
     "exception": false,
     "start_time": "2023-09-01T14:19:49.286424",
     "status": "completed"
    },
    "tags": []
   },
   "source": [
    "### General data Description"
   ]
  },
  {
   "cell_type": "markdown",
   "id": "82d3799e",
   "metadata": {
    "papermill": {
     "duration": 0.008322,
     "end_time": "2023-09-01T14:19:49.313398",
     "exception": false,
     "start_time": "2023-09-01T14:19:49.305076",
     "status": "completed"
    },
    "tags": []
   },
   "source": [
    "We are owing a supermarket mall and through membership cards, we have some basic data about our customers like Customer ID, age, gender, annual income and spending score. Spending Score is something we assign to the customer based on our defined parameters like customer behavior and purchasing data. "
   ]
  },
  {
   "cell_type": "markdown",
   "id": "a8c540ab",
   "metadata": {
    "papermill": {
     "duration": 0.009465,
     "end_time": "2023-09-01T14:19:49.332291",
     "exception": false,
     "start_time": "2023-09-01T14:19:49.322826",
     "status": "completed"
    },
    "tags": []
   },
   "source": [
    "### Objective"
   ]
  },
  {
   "cell_type": "markdown",
   "id": "91aa2ea8",
   "metadata": {
    "papermill": {
     "duration": 0.008537,
     "end_time": "2023-09-01T14:19:49.349706",
     "exception": false,
     "start_time": "2023-09-01T14:19:49.341169",
     "status": "completed"
    },
    "tags": []
   },
   "source": [
    "<ul>\n",
    "<li>To classify these customers into groups using k-means clustering algorithm which would in turn facilitate to study their spending patterns to maximize our profits. </li>\n",
    "</ul>"
   ]
  },
  {
   "cell_type": "markdown",
   "id": "3dccfc58",
   "metadata": {
    "papermill": {
     "duration": 0.008306,
     "end_time": "2023-09-01T14:19:49.366774",
     "exception": false,
     "start_time": "2023-09-01T14:19:49.358468",
     "status": "completed"
    },
    "tags": []
   },
   "source": [
    "Source of the dataset<br>\n",
    "https://www.kaggle.com/datasets/kandij/mall-customers/code?datasetId=177976"
   ]
  },
  {
   "cell_type": "markdown",
   "id": "4c5b6003",
   "metadata": {
    "papermill": {
     "duration": 0.010191,
     "end_time": "2023-09-01T14:19:49.386736",
     "exception": false,
     "start_time": "2023-09-01T14:19:49.376545",
     "status": "completed"
    },
    "tags": []
   },
   "source": [
    "### Importing Packages "
   ]
  },
  {
   "cell_type": "code",
   "execution_count": 1,
   "id": "bf0c69a4",
   "metadata": {
    "_cell_guid": "b1076dfc-b9ad-4769-8c92-a6c4dae69d19",
    "_uuid": "8f2839f25d086af736a60e9eeb907d3b93b6e0e5",
    "execution": {
     "iopub.execute_input": "2023-09-01T14:19:49.406473Z",
     "iopub.status.busy": "2023-09-01T14:19:49.405822Z",
     "iopub.status.idle": "2023-09-01T14:19:49.691556Z",
     "shell.execute_reply": "2023-09-01T14:19:49.690662Z"
    },
    "papermill": {
     "duration": 0.298159,
     "end_time": "2023-09-01T14:19:49.693735",
     "exception": false,
     "start_time": "2023-09-01T14:19:49.395576",
     "status": "completed"
    },
    "tags": []
   },
   "outputs": [
    {
     "name": "stdout",
     "output_type": "stream",
     "text": [
      "/kaggle/input/mall-customers/Mall_Customers.csv\n"
     ]
    }
   ],
   "source": [
    "import numpy as np\n",
    "import pandas as pd\n",
    "import matplotlib.pyplot as plt\n",
    "\n",
    "plt.style.use(\"ggplot\")\n",
    "\n",
    "import warnings\n",
    "warnings.filterwarnings(\"ignore\")\n",
    "\n",
    "import os\n",
    "for dirname, _, filenames in os.walk('/kaggle/input'):\n",
    "    for filename in filenames:\n",
    "        print(os.path.join(dirname, filename))"
   ]
  },
  {
   "cell_type": "markdown",
   "id": "8faea051",
   "metadata": {
    "papermill": {
     "duration": 0.008866,
     "end_time": "2023-09-01T14:19:49.712210",
     "exception": false,
     "start_time": "2023-09-01T14:19:49.703344",
     "status": "completed"
    },
    "tags": []
   },
   "source": [
    "### Loading the Dataset"
   ]
  },
  {
   "cell_type": "code",
   "execution_count": 2,
   "id": "912d9a9f",
   "metadata": {
    "execution": {
     "iopub.execute_input": "2023-09-01T14:19:49.732673Z",
     "iopub.status.busy": "2023-09-01T14:19:49.732081Z",
     "iopub.status.idle": "2023-09-01T14:19:49.749821Z",
     "shell.execute_reply": "2023-09-01T14:19:49.748374Z"
    },
    "papermill": {
     "duration": 0.03064,
     "end_time": "2023-09-01T14:19:49.752191",
     "exception": false,
     "start_time": "2023-09-01T14:19:49.721551",
     "status": "completed"
    },
    "tags": []
   },
   "outputs": [],
   "source": [
    "data = pd.read_csv(\"/kaggle/input/mall-customers/Mall_Customers.csv\")"
   ]
  },
  {
   "cell_type": "code",
   "execution_count": 3,
   "id": "b3ab3620",
   "metadata": {
    "execution": {
     "iopub.execute_input": "2023-09-01T14:19:49.772704Z",
     "iopub.status.busy": "2023-09-01T14:19:49.772332Z",
     "iopub.status.idle": "2023-09-01T14:19:49.793651Z",
     "shell.execute_reply": "2023-09-01T14:19:49.792469Z"
    },
    "papermill": {
     "duration": 0.034101,
     "end_time": "2023-09-01T14:19:49.795909",
     "exception": false,
     "start_time": "2023-09-01T14:19:49.761808",
     "status": "completed"
    },
    "tags": []
   },
   "outputs": [
    {
     "data": {
      "text/html": [
       "<div>\n",
       "<style scoped>\n",
       "    .dataframe tbody tr th:only-of-type {\n",
       "        vertical-align: middle;\n",
       "    }\n",
       "\n",
       "    .dataframe tbody tr th {\n",
       "        vertical-align: top;\n",
       "    }\n",
       "\n",
       "    .dataframe thead th {\n",
       "        text-align: right;\n",
       "    }\n",
       "</style>\n",
       "<table border=\"1\" class=\"dataframe\">\n",
       "  <thead>\n",
       "    <tr style=\"text-align: right;\">\n",
       "      <th></th>\n",
       "      <th>CustomerID</th>\n",
       "      <th>Genre</th>\n",
       "      <th>Age</th>\n",
       "      <th>Annual Income (k$)</th>\n",
       "      <th>Spending Score (1-100)</th>\n",
       "    </tr>\n",
       "  </thead>\n",
       "  <tbody>\n",
       "    <tr>\n",
       "      <th>0</th>\n",
       "      <td>1</td>\n",
       "      <td>Male</td>\n",
       "      <td>19</td>\n",
       "      <td>15</td>\n",
       "      <td>39</td>\n",
       "    </tr>\n",
       "    <tr>\n",
       "      <th>1</th>\n",
       "      <td>2</td>\n",
       "      <td>Male</td>\n",
       "      <td>21</td>\n",
       "      <td>15</td>\n",
       "      <td>81</td>\n",
       "    </tr>\n",
       "    <tr>\n",
       "      <th>2</th>\n",
       "      <td>3</td>\n",
       "      <td>Female</td>\n",
       "      <td>20</td>\n",
       "      <td>16</td>\n",
       "      <td>6</td>\n",
       "    </tr>\n",
       "    <tr>\n",
       "      <th>3</th>\n",
       "      <td>4</td>\n",
       "      <td>Female</td>\n",
       "      <td>23</td>\n",
       "      <td>16</td>\n",
       "      <td>77</td>\n",
       "    </tr>\n",
       "    <tr>\n",
       "      <th>4</th>\n",
       "      <td>5</td>\n",
       "      <td>Female</td>\n",
       "      <td>31</td>\n",
       "      <td>17</td>\n",
       "      <td>40</td>\n",
       "    </tr>\n",
       "  </tbody>\n",
       "</table>\n",
       "</div>"
      ],
      "text/plain": [
       "   CustomerID   Genre  Age  Annual Income (k$)  Spending Score (1-100)\n",
       "0           1    Male   19                  15                      39\n",
       "1           2    Male   21                  15                      81\n",
       "2           3  Female   20                  16                       6\n",
       "3           4  Female   23                  16                      77\n",
       "4           5  Female   31                  17                      40"
      ]
     },
     "execution_count": 3,
     "metadata": {},
     "output_type": "execute_result"
    }
   ],
   "source": [
    "data.head(5)"
   ]
  },
  {
   "cell_type": "markdown",
   "id": "026ad68e",
   "metadata": {
    "papermill": {
     "duration": 0.008692,
     "end_time": "2023-09-01T14:19:49.814258",
     "exception": false,
     "start_time": "2023-09-01T14:19:49.805566",
     "status": "completed"
    },
    "tags": []
   },
   "source": [
    "### Preliminary Analysis "
   ]
  },
  {
   "cell_type": "code",
   "execution_count": 4,
   "id": "1ef5bcd4",
   "metadata": {
    "execution": {
     "iopub.execute_input": "2023-09-01T14:19:49.833703Z",
     "iopub.status.busy": "2023-09-01T14:19:49.833053Z",
     "iopub.status.idle": "2023-09-01T14:19:49.839037Z",
     "shell.execute_reply": "2023-09-01T14:19:49.838108Z"
    },
    "papermill": {
     "duration": 0.017679,
     "end_time": "2023-09-01T14:19:49.840738",
     "exception": false,
     "start_time": "2023-09-01T14:19:49.823059",
     "status": "completed"
    },
    "tags": []
   },
   "outputs": [
    {
     "data": {
      "text/plain": [
       "(200, 5)"
      ]
     },
     "execution_count": 4,
     "metadata": {},
     "output_type": "execute_result"
    }
   ],
   "source": [
    "data.shape"
   ]
  },
  {
   "cell_type": "markdown",
   "id": "844f1484",
   "metadata": {
    "papermill": {
     "duration": 0.008728,
     "end_time": "2023-09-01T14:19:49.858608",
     "exception": false,
     "start_time": "2023-09-01T14:19:49.849880",
     "status": "completed"
    },
    "tags": []
   },
   "source": [
    "Inference: <br>\n",
    "<ol>\n",
    "    <li>There are 200 rows and 5 columns in the dataset</li>\n",
    "</ol>"
   ]
  },
  {
   "cell_type": "code",
   "execution_count": 5,
   "id": "3301e73f",
   "metadata": {
    "execution": {
     "iopub.execute_input": "2023-09-01T14:19:49.877940Z",
     "iopub.status.busy": "2023-09-01T14:19:49.877565Z",
     "iopub.status.idle": "2023-09-01T14:19:49.902886Z",
     "shell.execute_reply": "2023-09-01T14:19:49.902140Z"
    },
    "papermill": {
     "duration": 0.037733,
     "end_time": "2023-09-01T14:19:49.905273",
     "exception": false,
     "start_time": "2023-09-01T14:19:49.867540",
     "status": "completed"
    },
    "tags": []
   },
   "outputs": [
    {
     "name": "stdout",
     "output_type": "stream",
     "text": [
      "<class 'pandas.core.frame.DataFrame'>\n",
      "RangeIndex: 200 entries, 0 to 199\n",
      "Data columns (total 5 columns):\n",
      " #   Column                  Non-Null Count  Dtype \n",
      "---  ------                  --------------  ----- \n",
      " 0   CustomerID              200 non-null    int64 \n",
      " 1   Genre                   200 non-null    object\n",
      " 2   Age                     200 non-null    int64 \n",
      " 3   Annual Income (k$)      200 non-null    int64 \n",
      " 4   Spending Score (1-100)  200 non-null    int64 \n",
      "dtypes: int64(4), object(1)\n",
      "memory usage: 7.9+ KB\n"
     ]
    }
   ],
   "source": [
    "data.info()"
   ]
  },
  {
   "cell_type": "markdown",
   "id": "1734103d",
   "metadata": {
    "execution": {
     "iopub.execute_input": "2023-09-01T13:02:43.855750Z",
     "iopub.status.busy": "2023-09-01T13:02:43.854722Z",
     "iopub.status.idle": "2023-09-01T13:02:43.865796Z",
     "shell.execute_reply": "2023-09-01T13:02:43.863316Z",
     "shell.execute_reply.started": "2023-09-01T13:02:43.855703Z"
    },
    "papermill": {
     "duration": 0.009469,
     "end_time": "2023-09-01T14:19:49.924742",
     "exception": false,
     "start_time": "2023-09-01T14:19:49.915273",
     "status": "completed"
    },
    "tags": []
   },
   "source": [
    "Inference: <br>\n",
    "<ol>\n",
    "    <li>There are no null values in the dataset</li>\n",
    "    <li>All the datatypes of the variables are correct</li>\n",
    "</ol>"
   ]
  },
  {
   "cell_type": "code",
   "execution_count": 6,
   "id": "d08e00a2",
   "metadata": {
    "execution": {
     "iopub.execute_input": "2023-09-01T14:19:49.945994Z",
     "iopub.status.busy": "2023-09-01T14:19:49.945433Z",
     "iopub.status.idle": "2023-09-01T14:19:49.964996Z",
     "shell.execute_reply": "2023-09-01T14:19:49.964095Z"
    },
    "papermill": {
     "duration": 0.032366,
     "end_time": "2023-09-01T14:19:49.966831",
     "exception": false,
     "start_time": "2023-09-01T14:19:49.934465",
     "status": "completed"
    },
    "tags": []
   },
   "outputs": [
    {
     "data": {
      "text/html": [
       "<div>\n",
       "<style scoped>\n",
       "    .dataframe tbody tr th:only-of-type {\n",
       "        vertical-align: middle;\n",
       "    }\n",
       "\n",
       "    .dataframe tbody tr th {\n",
       "        vertical-align: top;\n",
       "    }\n",
       "\n",
       "    .dataframe thead th {\n",
       "        text-align: right;\n",
       "    }\n",
       "</style>\n",
       "<table border=\"1\" class=\"dataframe\">\n",
       "  <thead>\n",
       "    <tr style=\"text-align: right;\">\n",
       "      <th></th>\n",
       "      <th>CustomerID</th>\n",
       "      <th>Age</th>\n",
       "      <th>Annual Income (k$)</th>\n",
       "      <th>Spending Score (1-100)</th>\n",
       "    </tr>\n",
       "  </thead>\n",
       "  <tbody>\n",
       "    <tr>\n",
       "      <th>count</th>\n",
       "      <td>200.000000</td>\n",
       "      <td>200.000000</td>\n",
       "      <td>200.000000</td>\n",
       "      <td>200.000000</td>\n",
       "    </tr>\n",
       "    <tr>\n",
       "      <th>mean</th>\n",
       "      <td>100.500000</td>\n",
       "      <td>38.850000</td>\n",
       "      <td>60.560000</td>\n",
       "      <td>50.200000</td>\n",
       "    </tr>\n",
       "    <tr>\n",
       "      <th>std</th>\n",
       "      <td>57.879185</td>\n",
       "      <td>13.969007</td>\n",
       "      <td>26.264721</td>\n",
       "      <td>25.823522</td>\n",
       "    </tr>\n",
       "    <tr>\n",
       "      <th>min</th>\n",
       "      <td>1.000000</td>\n",
       "      <td>18.000000</td>\n",
       "      <td>15.000000</td>\n",
       "      <td>1.000000</td>\n",
       "    </tr>\n",
       "    <tr>\n",
       "      <th>25%</th>\n",
       "      <td>50.750000</td>\n",
       "      <td>28.750000</td>\n",
       "      <td>41.500000</td>\n",
       "      <td>34.750000</td>\n",
       "    </tr>\n",
       "    <tr>\n",
       "      <th>50%</th>\n",
       "      <td>100.500000</td>\n",
       "      <td>36.000000</td>\n",
       "      <td>61.500000</td>\n",
       "      <td>50.000000</td>\n",
       "    </tr>\n",
       "    <tr>\n",
       "      <th>75%</th>\n",
       "      <td>150.250000</td>\n",
       "      <td>49.000000</td>\n",
       "      <td>78.000000</td>\n",
       "      <td>73.000000</td>\n",
       "    </tr>\n",
       "    <tr>\n",
       "      <th>max</th>\n",
       "      <td>200.000000</td>\n",
       "      <td>70.000000</td>\n",
       "      <td>137.000000</td>\n",
       "      <td>99.000000</td>\n",
       "    </tr>\n",
       "  </tbody>\n",
       "</table>\n",
       "</div>"
      ],
      "text/plain": [
       "       CustomerID         Age  Annual Income (k$)  Spending Score (1-100)\n",
       "count  200.000000  200.000000          200.000000              200.000000\n",
       "mean   100.500000   38.850000           60.560000               50.200000\n",
       "std     57.879185   13.969007           26.264721               25.823522\n",
       "min      1.000000   18.000000           15.000000                1.000000\n",
       "25%     50.750000   28.750000           41.500000               34.750000\n",
       "50%    100.500000   36.000000           61.500000               50.000000\n",
       "75%    150.250000   49.000000           78.000000               73.000000\n",
       "max    200.000000   70.000000          137.000000               99.000000"
      ]
     },
     "execution_count": 6,
     "metadata": {},
     "output_type": "execute_result"
    }
   ],
   "source": [
    "data.describe()"
   ]
  },
  {
   "cell_type": "markdown",
   "id": "fd8def3d",
   "metadata": {
    "execution": {
     "iopub.execute_input": "2023-09-01T13:11:39.623446Z",
     "iopub.status.busy": "2023-09-01T13:11:39.622873Z",
     "iopub.status.idle": "2023-09-01T13:11:39.632974Z",
     "shell.execute_reply": "2023-09-01T13:11:39.630914Z",
     "shell.execute_reply.started": "2023-09-01T13:11:39.623406Z"
    },
    "papermill": {
     "duration": 0.009403,
     "end_time": "2023-09-01T14:19:49.986162",
     "exception": false,
     "start_time": "2023-09-01T14:19:49.976759",
     "status": "completed"
    },
    "tags": []
   },
   "source": [
    "Inference <br>\n",
    "<ul>\n",
    "<li>The ranges of the variables is more or less the same but would be better to scale them</li>\n",
    "</ul>"
   ]
  },
  {
   "cell_type": "markdown",
   "id": "2e2ec015",
   "metadata": {
    "papermill": {
     "duration": 0.009532,
     "end_time": "2023-09-01T14:19:50.005457",
     "exception": false,
     "start_time": "2023-09-01T14:19:49.995925",
     "status": "completed"
    },
    "tags": []
   },
   "source": [
    "### EDA and Feature Engineering"
   ]
  },
  {
   "cell_type": "markdown",
   "id": "1a2aaf33",
   "metadata": {
    "papermill": {
     "duration": 0.009724,
     "end_time": "2023-09-01T14:19:50.082822",
     "exception": false,
     "start_time": "2023-09-01T14:19:50.073098",
     "status": "completed"
    },
    "tags": []
   },
   "source": [
    "**Selecting the right variables**:"
   ]
  },
  {
   "cell_type": "markdown",
   "id": "4280c31b",
   "metadata": {
    "papermill": {
     "duration": 0.009554,
     "end_time": "2023-09-01T14:19:50.102174",
     "exception": false,
     "start_time": "2023-09-01T14:19:50.092620",
     "status": "completed"
    },
    "tags": []
   },
   "source": [
    "We select the variables Annual income and Spending score because in the current scenario, people of many ages have a different kinds of spending scores. Moreover, Annual Income is a direct indicator of the economic status of an individual"
   ]
  },
  {
   "cell_type": "code",
   "execution_count": 7,
   "id": "95b4abd7",
   "metadata": {
    "execution": {
     "iopub.execute_input": "2023-09-01T14:19:50.124080Z",
     "iopub.status.busy": "2023-09-01T14:19:50.123514Z",
     "iopub.status.idle": "2023-09-01T14:19:50.370177Z",
     "shell.execute_reply": "2023-09-01T14:19:50.369339Z"
    },
    "papermill": {
     "duration": 0.2602,
     "end_time": "2023-09-01T14:19:50.372665",
     "exception": false,
     "start_time": "2023-09-01T14:19:50.112465",
     "status": "completed"
    },
    "tags": []
   },
   "outputs": [
    {
     "data": {
      "image/png": "[encoded data removed]",
      "text/plain": [
       "<Figure size 640x480 with 1 Axes>"
      ]
     },
     "metadata": {},
     "output_type": "display_data"
    }
   ],
   "source": [
    "plt.scatter(data[\"Annual Income (k$)\"], data[\"Spending Score (1-100)\"])\n",
    "plt.xlabel(\"Annual Income (k$)\")\n",
    "plt.ylabel(\"Spending Score (1-100)\")\n",
    "plt.title(\"Graph showing Spending score of individuals Given their annual income\")\n",
    "plt.show()"
   ]
  },
  {
   "cell_type": "markdown",
   "id": "ed7090b2",
   "metadata": {
    "papermill": {
     "duration": 0.011997,
     "end_time": "2023-09-01T14:19:50.395689",
     "exception": false,
     "start_time": "2023-09-01T14:19:50.383692",
     "status": "completed"
    },
    "tags": []
   },
   "source": [
    "#### Scaling the Data"
   ]
  },
  {
   "cell_type": "code",
   "execution_count": 8,
   "id": "7917ceae",
   "metadata": {
    "execution": {
     "iopub.execute_input": "2023-09-01T14:19:50.417224Z",
     "iopub.status.busy": "2023-09-01T14:19:50.416902Z",
     "iopub.status.idle": "2023-09-01T14:19:52.024375Z",
     "shell.execute_reply": "2023-09-01T14:19:52.023173Z"
    },
    "papermill": {
     "duration": 1.621213,
     "end_time": "2023-09-01T14:19:52.026860",
     "exception": false,
     "start_time": "2023-09-01T14:19:50.405647",
     "status": "completed"
    },
    "tags": []
   },
   "outputs": [],
   "source": [
    "from sklearn.cluster import KMeans\n",
    "from sklearn.preprocessing import MinMaxScaler"
   ]
  },
  {
   "cell_type": "code",
   "execution_count": 9,
   "id": "d764203e",
   "metadata": {
    "execution": {
     "iopub.execute_input": "2023-09-01T14:19:52.049692Z",
     "iopub.status.busy": "2023-09-01T14:19:52.049324Z",
     "iopub.status.idle": "2023-09-01T14:19:52.053878Z",
     "shell.execute_reply": "2023-09-01T14:19:52.052906Z"
    },
    "papermill": {
     "duration": 0.018151,
     "end_time": "2023-09-01T14:19:52.055875",
     "exception": false,
     "start_time": "2023-09-01T14:19:52.037724",
     "status": "completed"
    },
    "tags": []
   },
   "outputs": [],
   "source": [
    "scaler = MinMaxScaler()"
   ]
  },
  {
   "cell_type": "code",
   "execution_count": 10,
   "id": "73e98ef9",
   "metadata": {
    "execution": {
     "iopub.execute_input": "2023-09-01T14:19:52.078840Z",
     "iopub.status.busy": "2023-09-01T14:19:52.078447Z",
     "iopub.status.idle": "2023-09-01T14:19:52.091981Z",
     "shell.execute_reply": "2023-09-01T14:19:52.091015Z"
    },
    "papermill": {
     "duration": 0.027622,
     "end_time": "2023-09-01T14:19:52.094493",
     "exception": false,
     "start_time": "2023-09-01T14:19:52.066871",
     "status": "completed"
    },
    "tags": []
   },
   "outputs": [],
   "source": [
    "scaler.fit(data[[\"Annual Income (k$)\"]])\n",
    "\n",
    "data[\"Annual_income\"] = scaler.transform(data[[\"Annual Income (k$)\"]])"
   ]
  },
  {
   "cell_type": "code",
   "execution_count": 11,
   "id": "15a14b8e",
   "metadata": {
    "execution": {
     "iopub.execute_input": "2023-09-01T14:19:52.117905Z",
     "iopub.status.busy": "2023-09-01T14:19:52.117361Z",
     "iopub.status.idle": "2023-09-01T14:19:52.126438Z",
     "shell.execute_reply": "2023-09-01T14:19:52.124930Z"
    },
    "papermill": {
     "duration": 0.023007,
     "end_time": "2023-09-01T14:19:52.128746",
     "exception": false,
     "start_time": "2023-09-01T14:19:52.105739",
     "status": "completed"
    },
    "tags": []
   },
   "outputs": [],
   "source": [
    "scaler.fit(data[[\"Spending Score (1-100)\"]])\n",
    "\n",
    "data[\"Spending_score\"] = scaler.transform(data[[\"Spending Score (1-100)\"]])"
   ]
  },
  {
   "cell_type": "code",
   "execution_count": 12,
   "id": "a40555f1",
   "metadata": {
    "execution": {
     "iopub.execute_input": "2023-09-01T14:19:52.150952Z",
     "iopub.status.busy": "2023-09-01T14:19:52.150566Z",
     "iopub.status.idle": "2023-09-01T14:19:52.162059Z",
     "shell.execute_reply": "2023-09-01T14:19:52.161183Z"
    },
    "papermill": {
     "duration": 0.024721,
     "end_time": "2023-09-01T14:19:52.163950",
     "exception": false,
     "start_time": "2023-09-01T14:19:52.139229",
     "status": "completed"
    },
    "tags": []
   },
   "outputs": [
    {
     "data": {
      "text/html": [
       "<div>\n",
       "<style scoped>\n",
       "    .dataframe tbody tr th:only-of-type {\n",
       "        vertical-align: middle;\n",
       "    }\n",
       "\n",
       "    .dataframe tbody tr th {\n",
       "        vertical-align: top;\n",
       "    }\n",
       "\n",
       "    .dataframe thead th {\n",
       "        text-align: right;\n",
       "    }\n",
       "</style>\n",
       "<table border=\"1\" class=\"dataframe\">\n",
       "  <thead>\n",
       "    <tr style=\"text-align: right;\">\n",
       "      <th></th>\n",
       "      <th>CustomerID</th>\n",
       "      <th>Genre</th>\n",
       "      <th>Age</th>\n",
       "      <th>Annual Income (k$)</th>\n",
       "      <th>Spending Score (1-100)</th>\n",
       "      <th>Annual_income</th>\n",
       "      <th>Spending_score</th>\n",
       "    </tr>\n",
       "  </thead>\n",
       "  <tbody>\n",
       "    <tr>\n",
       "      <th>0</th>\n",
       "      <td>1</td>\n",
       "      <td>Male</td>\n",
       "      <td>19</td>\n",
       "      <td>15</td>\n",
       "      <td>39</td>\n",
       "      <td>0.000000</td>\n",
       "      <td>0.387755</td>\n",
       "    </tr>\n",
       "    <tr>\n",
       "      <th>1</th>\n",
       "      <td>2</td>\n",
       "      <td>Male</td>\n",
       "      <td>21</td>\n",
       "      <td>15</td>\n",
       "      <td>81</td>\n",
       "      <td>0.000000</td>\n",
       "      <td>0.816327</td>\n",
       "    </tr>\n",
       "    <tr>\n",
       "      <th>2</th>\n",
       "      <td>3</td>\n",
       "      <td>Female</td>\n",
       "      <td>20</td>\n",
       "      <td>16</td>\n",
       "      <td>6</td>\n",
       "      <td>0.008197</td>\n",
       "      <td>0.051020</td>\n",
       "    </tr>\n",
       "    <tr>\n",
       "      <th>3</th>\n",
       "      <td>4</td>\n",
       "      <td>Female</td>\n",
       "      <td>23</td>\n",
       "      <td>16</td>\n",
       "      <td>77</td>\n",
       "      <td>0.008197</td>\n",
       "      <td>0.775510</td>\n",
       "    </tr>\n",
       "    <tr>\n",
       "      <th>4</th>\n",
       "      <td>5</td>\n",
       "      <td>Female</td>\n",
       "      <td>31</td>\n",
       "      <td>17</td>\n",
       "      <td>40</td>\n",
       "      <td>0.016393</td>\n",
       "      <td>0.397959</td>\n",
       "    </tr>\n",
       "  </tbody>\n",
       "</table>\n",
       "</div>"
      ],
      "text/plain": [
       "   CustomerID   Genre  Age  Annual Income (k$)  Spending Score (1-100)  \\\n",
       "0           1    Male   19                  15                      39   \n",
       "1           2    Male   21                  15                      81   \n",
       "2           3  Female   20                  16                       6   \n",
       "3           4  Female   23                  16                      77   \n",
       "4           5  Female   31                  17                      40   \n",
       "\n",
       "   Annual_income  Spending_score  \n",
       "0       0.000000        0.387755  \n",
       "1       0.000000        0.816327  \n",
       "2       0.008197        0.051020  \n",
       "3       0.008197        0.775510  \n",
       "4       0.016393        0.397959  "
      ]
     },
     "execution_count": 12,
     "metadata": {},
     "output_type": "execute_result"
    }
   ],
   "source": [
    "data.head(5)"
   ]
  },
  {
   "cell_type": "markdown",
   "id": "dad12760",
   "metadata": {
    "papermill": {
     "duration": 0.009895,
     "end_time": "2023-09-01T14:19:52.184310",
     "exception": false,
     "start_time": "2023-09-01T14:19:52.174415",
     "status": "completed"
    },
    "tags": []
   },
   "source": [
    "Inference: <br>\n",
    "The dataset has been scaled"
   ]
  },
  {
   "cell_type": "code",
   "execution_count": 13,
   "id": "8baf7c53",
   "metadata": {
    "execution": {
     "iopub.execute_input": "2023-09-01T14:19:52.205800Z",
     "iopub.status.busy": "2023-09-01T14:19:52.205428Z",
     "iopub.status.idle": "2023-09-01T14:19:52.215307Z",
     "shell.execute_reply": "2023-09-01T14:19:52.214353Z"
    },
    "papermill": {
     "duration": 0.022836,
     "end_time": "2023-09-01T14:19:52.217163",
     "exception": false,
     "start_time": "2023-09-01T14:19:52.194327",
     "status": "completed"
    },
    "tags": []
   },
   "outputs": [
    {
     "data": {
      "text/html": [
       "<div>\n",
       "<style scoped>\n",
       "    .dataframe tbody tr th:only-of-type {\n",
       "        vertical-align: middle;\n",
       "    }\n",
       "\n",
       "    .dataframe tbody tr th {\n",
       "        vertical-align: top;\n",
       "    }\n",
       "\n",
       "    .dataframe thead th {\n",
       "        text-align: right;\n",
       "    }\n",
       "</style>\n",
       "<table border=\"1\" class=\"dataframe\">\n",
       "  <thead>\n",
       "    <tr style=\"text-align: right;\">\n",
       "      <th></th>\n",
       "      <th>Annual_income</th>\n",
       "      <th>Spending_score</th>\n",
       "    </tr>\n",
       "  </thead>\n",
       "  <tbody>\n",
       "    <tr>\n",
       "      <th>0</th>\n",
       "      <td>0.000000</td>\n",
       "      <td>0.387755</td>\n",
       "    </tr>\n",
       "    <tr>\n",
       "      <th>1</th>\n",
       "      <td>0.000000</td>\n",
       "      <td>0.816327</td>\n",
       "    </tr>\n",
       "    <tr>\n",
       "      <th>2</th>\n",
       "      <td>0.008197</td>\n",
       "      <td>0.051020</td>\n",
       "    </tr>\n",
       "    <tr>\n",
       "      <th>3</th>\n",
       "      <td>0.008197</td>\n",
       "      <td>0.775510</td>\n",
       "    </tr>\n",
       "    <tr>\n",
       "      <th>4</th>\n",
       "      <td>0.016393</td>\n",
       "      <td>0.397959</td>\n",
       "    </tr>\n",
       "  </tbody>\n",
       "</table>\n",
       "</div>"
      ],
      "text/plain": [
       "   Annual_income  Spending_score\n",
       "0       0.000000        0.387755\n",
       "1       0.000000        0.816327\n",
       "2       0.008197        0.051020\n",
       "3       0.008197        0.775510\n",
       "4       0.016393        0.397959"
      ]
     },
     "execution_count": 13,
     "metadata": {},
     "output_type": "execute_result"
    }
   ],
   "source": [
    "new_data = data[[\"Annual_income\", \"Spending_score\"]]\n",
    "new_data.head()"
   ]
  },
  {
   "cell_type": "markdown",
   "id": "c8911a3f",
   "metadata": {
    "papermill": {
     "duration": 0.010498,
     "end_time": "2023-09-01T14:19:52.238733",
     "exception": false,
     "start_time": "2023-09-01T14:19:52.228235",
     "status": "completed"
    },
    "tags": []
   },
   "source": [
    "Inference: <br>\n",
    "The final dataset has been prepared "
   ]
  },
  {
   "cell_type": "markdown",
   "id": "71db1e30",
   "metadata": {
    "papermill": {
     "duration": 0.01056,
     "end_time": "2023-09-01T14:19:52.260803",
     "exception": false,
     "start_time": "2023-09-01T14:19:52.250243",
     "status": "completed"
    },
    "tags": []
   },
   "source": [
    "### Obtaining the number of clusters using the elbow method"
   ]
  },
  {
   "cell_type": "code",
   "execution_count": 14,
   "id": "5feef107",
   "metadata": {
    "execution": {
     "iopub.execute_input": "2023-09-01T14:19:52.283226Z",
     "iopub.status.busy": "2023-09-01T14:19:52.282715Z",
     "iopub.status.idle": "2023-09-01T14:19:52.487071Z",
     "shell.execute_reply": "2023-09-01T14:19:52.486300Z"
    },
    "papermill": {
     "duration": 0.218179,
     "end_time": "2023-09-01T14:19:52.489212",
     "exception": false,
     "start_time": "2023-09-01T14:19:52.271033",
     "status": "completed"
    },
    "tags": []
   },
   "outputs": [],
   "source": [
    "k_range = list(range(1, 11))\n",
    "sse = []\n",
    "\n",
    "for k in k_range:\n",
    "    km = KMeans(n_clusters = k)\n",
    "    km.fit(data[[\"Annual_income\", \"Spending_score\"]])\n",
    "    sse.append(km.inertia_)"
   ]
  },
  {
   "cell_type": "code",
   "execution_count": 15,
   "id": "e4735d29",
   "metadata": {
    "execution": {
     "iopub.execute_input": "2023-09-01T14:19:52.512479Z",
     "iopub.status.busy": "2023-09-01T14:19:52.511951Z",
     "iopub.status.idle": "2023-09-01T14:19:52.695493Z",
     "shell.execute_reply": "2023-09-01T14:19:52.694639Z"
    },
    "papermill": {
     "duration": 0.197228,
     "end_time": "2023-09-01T14:19:52.697453",
     "exception": false,
     "start_time": "2023-09-01T14:19:52.500225",
     "status": "completed"
    },
    "tags": []
   },
   "outputs": [
    {
     "data": {
      "image/png": "[encoded data removed]",
      "text/plain": [
       "<Figure size 1000x400 with 1 Axes>"
      ]
     },
     "metadata": {},
     "output_type": "display_data"
    }
   ],
   "source": [
    "plt.figure(figsize = (10, 4))\n",
    "plt.plot(sse, marker = \"*\")\n",
    "plt.title(\"Figure showing the SSE per number of clusters\")\n",
    "plt.xlabel(\"Number of Clusters\")\n",
    "plt.ylabel(\"SSE\")\n",
    "plt.show()"
   ]
  },
  {
   "cell_type": "markdown",
   "id": "596067bf",
   "metadata": {
    "papermill": {
     "duration": 0.010765,
     "end_time": "2023-09-01T14:19:52.719821",
     "exception": false,
     "start_time": "2023-09-01T14:19:52.709056",
     "status": "completed"
    },
    "tags": []
   },
   "source": [
    "Inference: <br>\n",
    "    <ul>\n",
    "    <li>Therefore, according to the elbow method, we can choose our number of clusters to be 5 as the decrease in SSE from cluster 4 (when counted from 0) is minimal.</li>\n",
    "    <li>Therefore, the number of clusters to be taken = 5</li>\n",
    "    </ul>"
   ]
  },
  {
   "cell_type": "markdown",
   "id": "97c541cb",
   "metadata": {
    "papermill": {
     "duration": 0.01062,
     "end_time": "2023-09-01T14:19:52.741438",
     "exception": false,
     "start_time": "2023-09-01T14:19:52.730818",
     "status": "completed"
    },
    "tags": []
   },
   "source": [
    "### Model Building "
   ]
  },
  {
   "cell_type": "code",
   "execution_count": 16,
   "id": "0ac4a6c9",
   "metadata": {
    "execution": {
     "iopub.execute_input": "2023-09-01T14:19:52.764832Z",
     "iopub.status.busy": "2023-09-01T14:19:52.764285Z",
     "iopub.status.idle": "2023-09-01T14:19:52.768222Z",
     "shell.execute_reply": "2023-09-01T14:19:52.767645Z"
    },
    "papermill": {
     "duration": 0.017598,
     "end_time": "2023-09-01T14:19:52.769890",
     "exception": false,
     "start_time": "2023-09-01T14:19:52.752292",
     "status": "completed"
    },
    "tags": []
   },
   "outputs": [],
   "source": [
    "km = KMeans(n_clusters = 5)"
   ]
  },
  {
   "cell_type": "code",
   "execution_count": 17,
   "id": "d8b00ac4",
   "metadata": {
    "execution": {
     "iopub.execute_input": "2023-09-01T14:19:52.793201Z",
     "iopub.status.busy": "2023-09-01T14:19:52.792728Z",
     "iopub.status.idle": "2023-09-01T14:19:52.811808Z",
     "shell.execute_reply": "2023-09-01T14:19:52.811033Z"
    },
    "papermill": {
     "duration": 0.033089,
     "end_time": "2023-09-01T14:19:52.813952",
     "exception": false,
     "start_time": "2023-09-01T14:19:52.780863",
     "status": "completed"
    },
    "tags": []
   },
   "outputs": [],
   "source": [
    "y_predicted = km.fit_predict(new_data[[\"Annual_income\", \"Spending_score\"]])"
   ]
  },
  {
   "cell_type": "code",
   "execution_count": 18,
   "id": "40bf93ff",
   "metadata": {
    "execution": {
     "iopub.execute_input": "2023-09-01T14:19:52.838402Z",
     "iopub.status.busy": "2023-09-01T14:19:52.837890Z",
     "iopub.status.idle": "2023-09-01T14:19:52.844653Z",
     "shell.execute_reply": "2023-09-01T14:19:52.843631Z"
    },
    "papermill": {
     "duration": 0.021627,
     "end_time": "2023-09-01T14:19:52.847133",
     "exception": false,
     "start_time": "2023-09-01T14:19:52.825506",
     "status": "completed"
    },
    "tags": []
   },
   "outputs": [
    {
     "data": {
      "text/plain": [
       "array([4, 3, 4, 3, 4, 3, 4, 3, 4, 3, 4, 3, 4, 3, 4, 3, 4, 3, 4, 3, 4, 3,\n",
       "       4, 3, 4, 3, 4, 3, 4, 3, 4, 3, 4, 3, 4, 3, 4, 3, 4, 3, 4, 3, 4, 0,\n",
       "       4, 3, 0, 0, 0, 0, 0, 0, 0, 0, 0, 0, 0, 0, 0, 0, 0, 0, 0, 0, 0, 0,\n",
       "       0, 0, 0, 0, 0, 0, 0, 0, 0, 0, 0, 0, 0, 0, 0, 0, 0, 0, 0, 0, 0, 0,\n",
       "       0, 0, 0, 0, 0, 0, 0, 0, 0, 0, 0, 0, 0, 0, 0, 0, 0, 0, 0, 0, 0, 0,\n",
       "       0, 0, 0, 0, 0, 0, 0, 0, 0, 0, 0, 0, 0, 1, 2, 1, 0, 1, 2, 1, 2, 1,\n",
       "       0, 1, 2, 1, 2, 1, 2, 1, 2, 1, 0, 1, 2, 1, 2, 1, 2, 1, 2, 1, 2, 1,\n",
       "       2, 1, 2, 1, 2, 1, 2, 1, 2, 1, 2, 1, 2, 1, 2, 1, 2, 1, 2, 1, 2, 1,\n",
       "       2, 1, 2, 1, 2, 1, 2, 1, 2, 1, 2, 1, 2, 1, 2, 1, 2, 1, 2, 1, 2, 1,\n",
       "       2, 1], dtype=int32)"
      ]
     },
     "execution_count": 18,
     "metadata": {},
     "output_type": "execute_result"
    }
   ],
   "source": [
    "y_predicted"
   ]
  },
  {
   "cell_type": "code",
   "execution_count": 19,
   "id": "64026025",
   "metadata": {
    "execution": {
     "iopub.execute_input": "2023-09-01T14:19:52.872805Z",
     "iopub.status.busy": "2023-09-01T14:19:52.872438Z",
     "iopub.status.idle": "2023-09-01T14:19:52.877659Z",
     "shell.execute_reply": "2023-09-01T14:19:52.876715Z"
    },
    "papermill": {
     "duration": 0.020028,
     "end_time": "2023-09-01T14:19:52.879762",
     "exception": false,
     "start_time": "2023-09-01T14:19:52.859734",
     "status": "completed"
    },
    "tags": []
   },
   "outputs": [],
   "source": [
    "new_data[\"cluster\"] = (y_predicted + 1)"
   ]
  },
  {
   "cell_type": "code",
   "execution_count": 20,
   "id": "815b09ab",
   "metadata": {
    "execution": {
     "iopub.execute_input": "2023-09-01T14:19:52.904986Z",
     "iopub.status.busy": "2023-09-01T14:19:52.904675Z",
     "iopub.status.idle": "2023-09-01T14:19:52.913799Z",
     "shell.execute_reply": "2023-09-01T14:19:52.912949Z"
    },
    "papermill": {
     "duration": 0.023452,
     "end_time": "2023-09-01T14:19:52.915401",
     "exception": false,
     "start_time": "2023-09-01T14:19:52.891949",
     "status": "completed"
    },
    "tags": []
   },
   "outputs": [
    {
     "data": {
      "text/html": [
       "<div>\n",
       "<style scoped>\n",
       "    .dataframe tbody tr th:only-of-type {\n",
       "        vertical-align: middle;\n",
       "    }\n",
       "\n",
       "    .dataframe tbody tr th {\n",
       "        vertical-align: top;\n",
       "    }\n",
       "\n",
       "    .dataframe thead th {\n",
       "        text-align: right;\n",
       "    }\n",
       "</style>\n",
       "<table border=\"1\" class=\"dataframe\">\n",
       "  <thead>\n",
       "    <tr style=\"text-align: right;\">\n",
       "      <th></th>\n",
       "      <th>Annual_income</th>\n",
       "      <th>Spending_score</th>\n",
       "      <th>cluster</th>\n",
       "    </tr>\n",
       "  </thead>\n",
       "  <tbody>\n",
       "    <tr>\n",
       "      <th>0</th>\n",
       "      <td>0.000000</td>\n",
       "      <td>0.387755</td>\n",
       "      <td>5</td>\n",
       "    </tr>\n",
       "    <tr>\n",
       "      <th>1</th>\n",
       "      <td>0.000000</td>\n",
       "      <td>0.816327</td>\n",
       "      <td>4</td>\n",
       "    </tr>\n",
       "    <tr>\n",
       "      <th>2</th>\n",
       "      <td>0.008197</td>\n",
       "      <td>0.051020</td>\n",
       "      <td>5</td>\n",
       "    </tr>\n",
       "    <tr>\n",
       "      <th>3</th>\n",
       "      <td>0.008197</td>\n",
       "      <td>0.775510</td>\n",
       "      <td>4</td>\n",
       "    </tr>\n",
       "    <tr>\n",
       "      <th>4</th>\n",
       "      <td>0.016393</td>\n",
       "      <td>0.397959</td>\n",
       "      <td>5</td>\n",
       "    </tr>\n",
       "  </tbody>\n",
       "</table>\n",
       "</div>"
      ],
      "text/plain": [
       "   Annual_income  Spending_score  cluster\n",
       "0       0.000000        0.387755        5\n",
       "1       0.000000        0.816327        4\n",
       "2       0.008197        0.051020        5\n",
       "3       0.008197        0.775510        4\n",
       "4       0.016393        0.397959        5"
      ]
     },
     "execution_count": 20,
     "metadata": {},
     "output_type": "execute_result"
    }
   ],
   "source": [
    "new_data.head()"
   ]
  },
  {
   "cell_type": "code",
   "execution_count": 21,
   "id": "6ecf959d",
   "metadata": {
    "execution": {
     "iopub.execute_input": "2023-09-01T14:19:52.939293Z",
     "iopub.status.busy": "2023-09-01T14:19:52.938970Z",
     "iopub.status.idle": "2023-09-01T14:19:52.944728Z",
     "shell.execute_reply": "2023-09-01T14:19:52.943895Z"
    },
    "papermill": {
     "duration": 0.019633,
     "end_time": "2023-09-01T14:19:52.946360",
     "exception": false,
     "start_time": "2023-09-01T14:19:52.926727",
     "status": "completed"
    },
    "tags": []
   },
   "outputs": [
    {
     "data": {
      "text/plain": [
       "array([5, 4, 1, 2, 3], dtype=int32)"
      ]
     },
     "execution_count": 21,
     "metadata": {},
     "output_type": "execute_result"
    }
   ],
   "source": [
    "new_data.cluster.unique()"
   ]
  },
  {
   "cell_type": "code",
   "execution_count": 22,
   "id": "a627c691",
   "metadata": {
    "execution": {
     "iopub.execute_input": "2023-09-01T14:19:52.970350Z",
     "iopub.status.busy": "2023-09-01T14:19:52.970012Z",
     "iopub.status.idle": "2023-09-01T14:19:52.976938Z",
     "shell.execute_reply": "2023-09-01T14:19:52.975968Z"
    },
    "papermill": {
     "duration": 0.021222,
     "end_time": "2023-09-01T14:19:52.978561",
     "exception": false,
     "start_time": "2023-09-01T14:19:52.957339",
     "status": "completed"
    },
    "tags": []
   },
   "outputs": [
    {
     "name": "stdout",
     "output_type": "stream",
     "text": [
      "The coordinates of cluster centroids: \n"
     ]
    },
    {
     "data": {
      "text/plain": [
       "array([[0.33029751, 0.49508692],\n",
       "       [0.58638083, 0.82783883],\n",
       "       [0.6       , 0.16443149],\n",
       "       [0.08792846, 0.79962894],\n",
       "       [0.09265859, 0.20319432]])"
      ]
     },
     "execution_count": 22,
     "metadata": {},
     "output_type": "execute_result"
    }
   ],
   "source": [
    "print(\"The coordinates of cluster centroids: \")\n",
    "km.cluster_centers_"
   ]
  },
  {
   "cell_type": "code",
   "execution_count": 23,
   "id": "b6344895",
   "metadata": {
    "execution": {
     "iopub.execute_input": "2023-09-01T14:19:53.003114Z",
     "iopub.status.busy": "2023-09-01T14:19:53.002760Z",
     "iopub.status.idle": "2023-09-01T14:19:53.010221Z",
     "shell.execute_reply": "2023-09-01T14:19:53.009636Z"
    },
    "papermill": {
     "duration": 0.021828,
     "end_time": "2023-09-01T14:19:53.012032",
     "exception": false,
     "start_time": "2023-09-01T14:19:52.990204",
     "status": "completed"
    },
    "tags": []
   },
   "outputs": [],
   "source": [
    "df1 = new_data[new_data.cluster == 1]\n",
    "df2 = new_data[new_data.cluster == 2]\n",
    "df3 = new_data[new_data.cluster == 3]\n",
    "df4 = new_data[new_data.cluster == 4]\n",
    "df5 = new_data[new_data.cluster == 5]"
   ]
  },
  {
   "cell_type": "code",
   "execution_count": 24,
   "id": "576bd38a",
   "metadata": {
    "execution": {
     "iopub.execute_input": "2023-09-01T14:19:53.036235Z",
     "iopub.status.busy": "2023-09-01T14:19:53.035826Z",
     "iopub.status.idle": "2023-09-01T14:19:53.266213Z",
     "shell.execute_reply": "2023-09-01T14:19:53.265496Z"
    },
    "papermill": {
     "duration": 0.244479,
     "end_time": "2023-09-01T14:19:53.267923",
     "exception": false,
     "start_time": "2023-09-01T14:19:53.023444",
     "status": "completed"
    },
    "tags": []
   },
   "outputs": [
    {
     "data": {
      "image/png": "[encoded data removed]",
      "text/plain": [
       "<Figure size 640x480 with 1 Axes>"
      ]
     },
     "metadata": {},
     "output_type": "display_data"
    }
   ],
   "source": [
    "plt.scatter(df1[\"Annual_income\"], df1[\"Spending_score\"], color = \"red\")\n",
    "plt.scatter(df2[\"Annual_income\"], df2[\"Spending_score\"], color = \"green\")\n",
    "plt.scatter(df3[\"Annual_income\"], df3[\"Spending_score\"], color = \"blue\")\n",
    "plt.scatter(df4[\"Annual_income\"], df4[\"Spending_score\"], color = \"indigo\")\n",
    "plt.scatter(df5[\"Annual_income\"], df5[\"Spending_score\"], color = \"brown\")\n",
    "plt.title(\"Spending Score classified into 5 clusters\")\n",
    "plt.show()"
   ]
  },
  {
   "cell_type": "markdown",
   "id": "4e1604b4",
   "metadata": {
    "papermill": {
     "duration": 0.011754,
     "end_time": "2023-09-01T14:19:53.292251",
     "exception": false,
     "start_time": "2023-09-01T14:19:53.280497",
     "status": "completed"
    },
    "tags": []
   },
   "source": [
    "### Conclusion"
   ]
  },
  {
   "cell_type": "markdown",
   "id": "8cbdb94b",
   "metadata": {
    "papermill": {
     "duration": 0.012645,
     "end_time": "2023-09-01T14:19:53.317060",
     "exception": false,
     "start_time": "2023-09-01T14:19:53.304415",
     "status": "completed"
    },
    "tags": []
   },
   "source": [
    "We have successfully classified the customers into 5 differenet groups using k-means algorithm. We can now further analyze each individual groups seperatelyt to study their spending patterns and maximize profit accordingly.  "
   ]
  }
 ],
 "kernelspec": {
  "display_name": "Python 3",
  "language": "python",
  "name": "python3"
 },
 "language_info": {
  "codemirror_mode": {
   "name": "ipython",
   "version": 3
  },
  "file_extension": ".py",
  "mimetype": "text/x-python",
  "name": "python",
  "nbconvert_exporter": "python",
  "pygments_lexer": "ipython3",
  "version": "3.6.4"
 },
 "metadata": {
  "kernelspec": {
   "display_name": "Python 3",
   "language": "python",
   "name": "python3"
  },
  "language_info": {
   "codemirror_mode": {
    "name": "ipython",
    "version": 3
   },
   "file_extension": ".py",
   "mimetype": "text/x-python",
   "name": "python",
   "nbconvert_exporter": "python",
   "pygments_lexer": "ipython3",
   "version": "3.10.12"
  },
  "papermill": {
   "default_parameters": {},
   "duration": 7.313681,
   "end_time": "2023-09-01T14:19:53.851781",
   "environment_variables": {},
   "exception": null,
   "input_path": "__notebook__.ipynb",
   "output_path": "__notebook__.ipynb",
   "parameters": {},
   "start_time": "2023-09-01T14:19:46.538100",
   "version": "2.4.0"
  }
 },
 "nbformat": 4,
 "nbformat_minor": 5
}
